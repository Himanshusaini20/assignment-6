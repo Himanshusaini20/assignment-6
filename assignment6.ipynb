{
 "cells": [
  {
   "cell_type": "markdown",
   "id": "f3d592ba-3fbd-43ae-9ed9-739feefc112b",
   "metadata": {},
   "source": [
    "### Q1 Explain class and object with respect to object-oriented programming. Give a suitable example. "
   ]
  },
  {
   "cell_type": "code",
   "execution_count": 1,
   "id": "244802db-b834-48de-b2cc-c91cbd6b2569",
   "metadata": {},
   "outputs": [],
   "source": [
    "class cars:\n",
    "    def __init__(self,modle_name,average_speed,color):\n",
    "        self.modle_name=modle_name\n",
    "        self.average_speed=average_speed\n",
    "        self.color=color\n",
    "    def cars_details(self):\n",
    "        return self.modle_name,self.average_speed,self.color"
   ]
  },
  {
   "cell_type": "code",
   "execution_count": 3,
   "id": "5ed97fb8-6e45-4183-bbaa-89effdfa2c5a",
   "metadata": {},
   "outputs": [],
   "source": [
    "company=cars('Creta',200,'Black')"
   ]
  },
  {
   "cell_type": "code",
   "execution_count": 4,
   "id": "873a94a2-fcf5-4426-9018-93ea8ec00c9b",
   "metadata": {},
   "outputs": [
    {
     "data": {
      "text/plain": [
       "('Creta', 200, 'Black')"
      ]
     },
     "execution_count": 4,
     "metadata": {},
     "output_type": "execute_result"
    }
   ],
   "source": [
    "company.cars_details()"
   ]
  },
  {
   "cell_type": "markdown",
   "id": "34016549-632f-451f-976d-0be1759566ff",
   "metadata": {},
   "source": [
    "### Q2 Name of the four pillars of OOPs."
   ]
  },
  {
   "cell_type": "code",
   "execution_count": 5,
   "id": "6c8e7200-34fa-4c35-b34e-195e95fcdfc0",
   "metadata": {},
   "outputs": [],
   "source": [
    "# Abstrction.\n",
    "# Encapulation.\n",
    "# Inherutence.\n",
    "# Polymorphism."
   ]
  },
  {
   "cell_type": "markdown",
   "id": "dee2b97b-3949-4d1a-91b6-7e151c096f57",
   "metadata": {},
   "source": [
    "### Q3 Explain why the __init__() function is used. Give a suitable example."
   ]
  },
  {
   "cell_type": "code",
   "execution_count": 7,
   "id": "83c55179-5396-4b41-a4f3-e2bd2cb040b0",
   "metadata": {},
   "outputs": [
    {
     "name": "stdout",
     "output_type": "stream",
     "text": [
      "i ran first\n",
      "i ran second\n",
      "NAME:Audi R8\n"
     ]
    }
   ],
   "source": [
    "class car:\n",
    "    def __init__(self,name):\n",
    "        self.name=name\n",
    "        print (\"i ran first\")\n",
    "    def product(self):\n",
    "        print(\"i ran second\")\n",
    "        return(\"NAME:\"+self.name)\n",
    "    \n",
    "c=car('Audi R8')\n",
    "print(c.product())"
   ]
  },
  {
   "cell_type": "markdown",
   "id": "190f9d06-42f7-4ce8-8b91-ef87663adf3c",
   "metadata": {},
   "source": [
    "### Q4 Why self is used in OOPs?"
   ]
  },
  {
   "cell_type": "code",
   "execution_count": 9,
   "id": "2ced7acc-c01e-4e13-a056-fe3fc048568a",
   "metadata": {},
   "outputs": [],
   "source": [
    "# ''' Self repersents the instance of the class. By using \"self\" we can access the atributes and methods of the class in phython. \n",
    "# It binds the attributes with the given arguments.The reason you need to use self. is because python dose not use the @ syntax \n",
    "# to refer to instance attributes.'''"
   ]
  },
  {
   "cell_type": "markdown",
   "id": "2e3b8632-2dba-47de-864c-fddee392bb49",
   "metadata": {},
   "source": [
    "### Q5 What is inheritance? Given an example for each type of inheritance."
   ]
  },
  {
   "cell_type": "code",
   "execution_count": 10,
   "id": "0179b7a1-d073-4f58-b042-278754210420",
   "metadata": {},
   "outputs": [],
   "source": [
    "# single inheritance"
   ]
  },
  {
   "cell_type": "code",
   "execution_count": 15,
   "id": "b8efa684-ac6c-4f41-b316-207382da4dab",
   "metadata": {},
   "outputs": [],
   "source": [
    "class person:\n",
    "    def name(self):\n",
    "        return ('my mane is himanshu')\n"
   ]
  },
  {
   "cell_type": "code",
   "execution_count": 16,
   "id": "fba59fee-f2cc-4b6b-8b7f-6205b9c54a7a",
   "metadata": {},
   "outputs": [],
   "source": [
    "class person1(person):\n",
    "    pass"
   ]
  },
  {
   "cell_type": "code",
   "execution_count": 17,
   "id": "7434c2df-4d6d-41b8-a611-f9f5d35bc383",
   "metadata": {},
   "outputs": [],
   "source": [
    "name=person1()"
   ]
  },
  {
   "cell_type": "code",
   "execution_count": 18,
   "id": "9b68ef57-76bc-4427-b46f-c7cca239b8dc",
   "metadata": {},
   "outputs": [
    {
     "data": {
      "text/plain": [
       "'my mane is himanshu'"
      ]
     },
     "execution_count": 18,
     "metadata": {},
     "output_type": "execute_result"
    }
   ],
   "source": [
    "name.name()"
   ]
  },
  {
   "cell_type": "code",
   "execution_count": 19,
   "id": "1dbb6886-5780-432d-bb90-2f81d61486ca",
   "metadata": {},
   "outputs": [],
   "source": [
    "# Multiple inheritance"
   ]
  },
  {
   "cell_type": "code",
   "execution_count": 20,
   "id": "d5232c5e-abe2-417c-a671-6d0ce7cae36a",
   "metadata": {},
   "outputs": [],
   "source": [
    "class person3:\n",
    "    def person_3(self):\n",
    "        return (\"my name is sahil\")"
   ]
  },
  {
   "cell_type": "code",
   "execution_count": 21,
   "id": "28881728-e84f-466c-936b-7eb7ceb75b65",
   "metadata": {},
   "outputs": [],
   "source": [
    "class person4(person1,person3):\n",
    "    pass"
   ]
  },
  {
   "cell_type": "code",
   "execution_count": 22,
   "id": "c60fb400-ce16-4631-8045-ec9989a2f87a",
   "metadata": {},
   "outputs": [],
   "source": [
    "name1=person4()"
   ]
  },
  {
   "cell_type": "code",
   "execution_count": 23,
   "id": "542c16f8-94f4-419a-806d-40d087d3007b",
   "metadata": {},
   "outputs": [
    {
     "data": {
      "text/plain": [
       "'my name is sahil'"
      ]
     },
     "execution_count": 23,
     "metadata": {},
     "output_type": "execute_result"
    }
   ],
   "source": [
    "name1.person_3()"
   ]
  },
  {
   "cell_type": "code",
   "execution_count": 24,
   "id": "6c40e167-90f8-4f92-be50-4371126078d6",
   "metadata": {},
   "outputs": [
    {
     "data": {
      "text/plain": [
       "'my mane is himanshu'"
      ]
     },
     "execution_count": 24,
     "metadata": {},
     "output_type": "execute_result"
    }
   ],
   "source": [
    "name1.name()"
   ]
  },
  {
   "cell_type": "code",
   "execution_count": 25,
   "id": "8b6156b5-8440-4ffe-abe5-3fd7fec0e4e7",
   "metadata": {},
   "outputs": [],
   "source": [
    "# Multilevel inheritance"
   ]
  },
  {
   "cell_type": "code",
   "execution_count": 26,
   "id": "7277eb85-6c2a-4810-8de9-eb09cc13d97a",
   "metadata": {},
   "outputs": [],
   "source": [
    "class computer_classes:\n",
    "    def student_name(self):\n",
    "        return(\"Himanshu Saini\")"
   ]
  },
  {
   "cell_type": "code",
   "execution_count": 27,
   "id": "505771ed-9faf-46bb-bafc-355bd090b690",
   "metadata": {},
   "outputs": [],
   "source": [
    "class details(computer_classes):\n",
    "    def mobile_number(self):\n",
    "        return(8273976754)"
   ]
  },
  {
   "cell_type": "code",
   "execution_count": 28,
   "id": "30c74b01-41f1-4b2c-8a21-8e5328b8a9d6",
   "metadata": {},
   "outputs": [],
   "source": [
    "class output(details):\n",
    "    pass"
   ]
  },
  {
   "cell_type": "code",
   "execution_count": 29,
   "id": "f69be0d1-6fcc-44c8-9ec4-076db48f9ef4",
   "metadata": {},
   "outputs": [],
   "source": [
    "student_details=output()"
   ]
  },
  {
   "cell_type": "code",
   "execution_count": 30,
   "id": "8f62da5b-dbaf-44ef-91ea-d376b1cabad2",
   "metadata": {},
   "outputs": [
    {
     "data": {
      "text/plain": [
       "'Himanshu Saini'"
      ]
     },
     "execution_count": 30,
     "metadata": {},
     "output_type": "execute_result"
    }
   ],
   "source": [
    "student_details.student_name()"
   ]
  },
  {
   "cell_type": "code",
   "execution_count": 31,
   "id": "fd57288f-27bb-4b03-829e-52de20529c74",
   "metadata": {},
   "outputs": [
    {
     "data": {
      "text/plain": [
       "8273976754"
      ]
     },
     "execution_count": 31,
     "metadata": {},
     "output_type": "execute_result"
    }
   ],
   "source": [
    "student_details.mobile_number()"
   ]
  },
  {
   "cell_type": "code",
   "execution_count": 32,
   "id": "aff033b7-b22f-48b7-9ecf-18ecf98ab778",
   "metadata": {},
   "outputs": [],
   "source": [
    "# Hierarchical inheritance"
   ]
  },
  {
   "cell_type": "code",
   "execution_count": 35,
   "id": "4fd50a2c-f401-456b-b1a4-44033b478b6d",
   "metadata": {},
   "outputs": [],
   "source": [
    "class student_data:\n",
    "    def func1 (self):\n",
    "        print (\"this is  my student data\")"
   ]
  },
  {
   "cell_type": "code",
   "execution_count": 36,
   "id": "7ef1d3e5-bb65-4389-b1c1-f7845b8548aa",
   "metadata": {},
   "outputs": [],
   "source": [
    "class student_name(student_data):\n",
    "    def func2(self):\n",
    "        print(\"this is my student name\")"
   ]
  },
  {
   "cell_type": "code",
   "execution_count": 37,
   "id": "3b2eded2-17cb-4509-885a-156a9fc355d4",
   "metadata": {},
   "outputs": [],
   "source": [
    "class student_name1(student_data):\n",
    "    def func3(self):\n",
    "        print(\"this is my student name 1\")"
   ]
  },
  {
   "cell_type": "code",
   "execution_count": 38,
   "id": "e9858de9-12b4-406c-8aab-2c0f1d33f417",
   "metadata": {},
   "outputs": [],
   "source": [
    "obj_1=student_name()\n",
    "obj_2=student_name1()"
   ]
  },
  {
   "cell_type": "code",
   "execution_count": 39,
   "id": "839f5c11-0895-47c2-9667-4e8e45be564b",
   "metadata": {},
   "outputs": [
    {
     "name": "stdout",
     "output_type": "stream",
     "text": [
      "this is  my student data\n"
     ]
    }
   ],
   "source": [
    "obj_1.func1()"
   ]
  },
  {
   "cell_type": "code",
   "execution_count": 40,
   "id": "331d7ee3-0a37-48d3-b899-a9c798923b33",
   "metadata": {},
   "outputs": [
    {
     "name": "stdout",
     "output_type": "stream",
     "text": [
      "this is my student name\n"
     ]
    }
   ],
   "source": [
    "obj_1.func2()"
   ]
  },
  {
   "cell_type": "code",
   "execution_count": 41,
   "id": "67c893fc-21a1-4fee-8b93-51c4f9632d26",
   "metadata": {},
   "outputs": [
    {
     "name": "stdout",
     "output_type": "stream",
     "text": [
      "this is  my student data\n"
     ]
    }
   ],
   "source": [
    "obj_2.func1()"
   ]
  },
  {
   "cell_type": "code",
   "execution_count": 42,
   "id": "40b0faaf-acc2-46ef-9ffe-60325504e987",
   "metadata": {},
   "outputs": [
    {
     "name": "stdout",
     "output_type": "stream",
     "text": [
      "this is my student name 1\n"
     ]
    }
   ],
   "source": [
    "obj_2.func3()"
   ]
  },
  {
   "cell_type": "code",
   "execution_count": 43,
   "id": "cc335d67-4920-4c9b-be54-5095c276f6ef",
   "metadata": {},
   "outputs": [],
   "source": [
    "# Hybrid inheritance"
   ]
  },
  {
   "cell_type": "code",
   "execution_count": 44,
   "id": "78fbdcfe-6659-4597-94f7-5c9132ffbe71",
   "metadata": {},
   "outputs": [],
   "source": [
    "class school:\n",
    "    def func1(self):\n",
    "        print(\"this function is in school \")"
   ]
  },
  {
   "cell_type": "code",
   "execution_count": 45,
   "id": "3e00fc97-9459-4e5c-90b3-71f5ccea2442",
   "metadata": {},
   "outputs": [],
   "source": [
    "class student1(school):\n",
    "    def func2(self):\n",
    "        print(\"this functionis in student 1 \")"
   ]
  },
  {
   "cell_type": "code",
   "execution_count": 46,
   "id": "12b98799-aaca-4730-8f36-9164347a6805",
   "metadata": {},
   "outputs": [],
   "source": [
    "class student2(school):\n",
    "    def func3(self):\n",
    "        print(\"this function is in student 2\")"
   ]
  },
  {
   "cell_type": "code",
   "execution_count": 49,
   "id": "f9d2dc21-ba88-42e4-b272-fa21429fc5d7",
   "metadata": {},
   "outputs": [],
   "source": [
    "class student3(student1,school):\n",
    "    def func4(self):\n",
    "        print (\"this function is in student 3\")"
   ]
  },
  {
   "cell_type": "code",
   "execution_count": 50,
   "id": "416d007a-f5e9-40a8-8c55-57b3fbe70586",
   "metadata": {},
   "outputs": [],
   "source": [
    "obj=student3()"
   ]
  },
  {
   "cell_type": "code",
   "execution_count": 51,
   "id": "8170a8b0-c46d-47bb-86cb-3948196f306b",
   "metadata": {},
   "outputs": [
    {
     "name": "stdout",
     "output_type": "stream",
     "text": [
      "this function is in school \n"
     ]
    }
   ],
   "source": [
    "obj.func1()"
   ]
  },
  {
   "cell_type": "code",
   "execution_count": 52,
   "id": "539420c4-f655-47b1-8642-b6be319c43d0",
   "metadata": {},
   "outputs": [
    {
     "name": "stdout",
     "output_type": "stream",
     "text": [
      "this functionis in student 1 \n"
     ]
    }
   ],
   "source": [
    "obj.func2()"
   ]
  },
  {
   "cell_type": "code",
   "execution_count": null,
   "id": "82391193-e427-47b8-b7cb-f172f0f44089",
   "metadata": {},
   "outputs": [],
   "source": []
  }
 ],
 "metadata": {
  "kernelspec": {
   "display_name": "Python 3 (ipykernel)",
   "language": "python",
   "name": "python3"
  },
  "language_info": {
   "codemirror_mode": {
    "name": "ipython",
    "version": 3
   },
   "file_extension": ".py",
   "mimetype": "text/x-python",
   "name": "python",
   "nbconvert_exporter": "python",
   "pygments_lexer": "ipython3",
   "version": "3.10.8"
  }
 },
 "nbformat": 4,
 "nbformat_minor": 5
}
